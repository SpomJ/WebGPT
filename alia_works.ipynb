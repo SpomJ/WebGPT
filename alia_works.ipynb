{
  "nbformat": 4,
  "nbformat_minor": 0,
  "metadata": {
    "colab": {
      "provenance": [],
      "gpuType": "T4"
    },
    "kernelspec": {
      "name": "python3",
      "display_name": "Python 3"
    },
    "language_info": {
      "name": "python"
    },
    "accelerator": "GPU"
  },
  "cells": [
    {
      "cell_type": "code",
      "execution_count": null,
      "metadata": {
        "id": "WENCJoMsc0ZE"
      },
      "outputs": [],
      "source": [
        "from transformers import AutoTokenizer, AutoModelForCausalLM\n",
        "\n",
        "tokenizer = AutoTokenizer.from_pretrained(\"facebook/opt-1.3b\")\n",
        "model = AutoModelForCausalLM.from_pretrained(\"facebook/opt-1.3b\")\n",
        "\n",
        "input_text = \"Write me a poem about Machine Learning.\"\n",
        "input_ids = tokenizer(input_text, return_tensors=\"pt\")\n",
        "\n",
        "outputs = model.generate(**input_ids, max_length = 100)\n",
        "print(tokenizer.decode(outputs[0]))"
      ]
    },
    {
      "cell_type": "code",
      "source": [
        "input_text = \"What is the date today? Today 9 Mart\"\n",
        "input_ids = tokenizer(input_text, return_tensors=\"pt\")\n",
        "\n",
        "outputs = model.generate(**input_ids)\n",
        "print(tokenizer.decode(outputs[0]))"
      ],
      "metadata": {
        "id": "XI-mGlLT_gEW"
      },
      "execution_count": null,
      "outputs": []
    },
    {
      "cell_type": "code",
      "source": [
        "from googlesearch import search\n",
        "import requests\n",
        "import re\n",
        "from bs4 import BeautifulSoup\n",
        "\n",
        "bs = BeautifulSoup(response.text,\"lxml\")\n",
        "\n",
        "# as per recommendation from @freylis, compile once only\n",
        "CLEANR = re.compile('<.*?>')\n",
        "\n",
        "def cleanhtml(raw_html):\n",
        "  cleantext = re.sub(CLEANR, '', raw_html)\n",
        "  return cleantext\n",
        "\n",
        "\n",
        "query = \"What is the date today?\"\n",
        "\n",
        "for i in search(query, tld=\"co.in\", num=1, stop=1, pause=2):\n",
        "    url = str(i)\n",
        "    response = requests.get(url)\n",
        "    e = response.text\n",
        "\n",
        "    print(cleanhtml(response.text))"
      ],
      "metadata": {
        "id": "rD97lm-XLhzY"
      },
      "execution_count": null,
      "outputs": []
    },
    {
      "cell_type": "code",
      "source": [
        "import requests\n",
        "from duckduckgo_search import DDGS\n",
        "\n",
        "query = \"what is mouse?\"\n",
        "\n",
        "r = requests.get(\"https://api.duckduckgo.com\",\n",
        "    params = {\n",
        "        \"q\": query,\n",
        "        \"format\": \"json\"\n",
        "    })\n",
        "\n",
        "\n",
        "def not_plash(query):\n",
        "  results = DDGS().text(query, max_results=1)\n",
        "  return list(map(lambda x: x['body'], results))\n",
        "\n",
        "data = r.json()\n",
        "\n",
        "# print(data)\n",
        "if len(data[\"Abstract\"]) != 0:\n",
        "  print(data[\"Abstract\"])\n",
        "elif len(data[\"Answer\"]) != 0:\n",
        "  print(data[\"Answer\"])\n",
        "else:\n",
        "  print(*not_plash(query))"
      ],
      "metadata": {
        "colab": {
          "base_uri": "https://localhost:8080/"
        },
        "id": "8d7Jplf-Lx9-",
        "outputId": "4edb151b-1477-4ebf-d115-9e600d9839be"
      },
      "execution_count": 21,
      "outputs": [
        {
          "output_type": "stream",
          "name": "stdout",
          "text": [
            "A mouse is a small rodent. Characteristically, mice are known to have a pointed snout, small rounded ears, a body-length scaly tail, and a high breeding rate. The best known mouse species is the common house mouse. Mice are also popular as pets. In some places, certain kinds of field mice are locally common. They are known to invade homes for food and shelter. Mice are typically distinguished from rats by their size. Generally, when a muroid rodent is discovered, its common name includes the term mouse if it is smaller, or rat if it is larger. The common terms rat and mouse are not taxonomically specific. Typical mice are classified in the genus Mus, but the term mouse is not confined to members of Mus and can also apply to species from other genera such as the deer mouse. Domestic mice sold as pets often differ substantially in size from the common house mouse. This is attributable to breeding and different conditions in the wild. The best-known strain of mouse is the white lab mouse.\n"
          ]
        }
      ]
    },
    {
      "cell_type": "code",
      "source": [
        "import requests\n",
        "from duckduckgo_search import DDGS\n",
        "query = \"Why is the grass green?\"\n",
        "\n",
        "def not_plash(query):\n",
        "  results = DDGS().text(query, max_results=1)\n",
        "  return list(map(lambda x: x['body'], results))\n",
        "\n",
        "print(*not_plash(query))"
      ],
      "metadata": {
        "colab": {
          "base_uri": "https://localhost:8080/"
        },
        "id": "4mvwpLlwYX_z",
        "outputId": "a9246984-96e8-403c-97d8-c1e9634131a3"
      },
      "execution_count": 16,
      "outputs": [
        {
          "output_type": "stream",
          "name": "stdout",
          "text": [
            "Grass is green because of the presence of chlorophyll throughout the leaves and stems. Chlorophyll is a pigment that allows plants to capture energy from the Sun in order to power the process of photosynthesis. Given that most grasses lack trunks or woody stems like trees or shrubs, their aboveground bodies are mostly chlorophyll-rich leaves ...\n"
          ]
        }
      ]
    },
    {
      "cell_type": "code",
      "source": [
        "from duckduckgo_search import DDGS, AsyncDDGS\n",
        "\n",
        "\n",
        "# DDG query wrapper\n",
        "def results(query: str, n_max=1, include_urls=False) -> list:\n",
        "    results = DDGS().text(query, max_results=n_max)\n",
        "    if include_urls:\n",
        "        return [(e['body'], e['href']) for e in results]\n",
        "    return [e['body'] for e in results]\n",
        "\n",
        "# # Whatever this is\n",
        "# async def async_results(query: str, n_max=1, include_urls=False) -> list:\n",
        "#     results = await AsyncDDGS().text(query, max_results=n_max)\n",
        "#     if include_urls:\n",
        "#         return [(e['body'], e['href']) for e in results]\n",
        "#     return [e['body'] for e in results]\n",
        "\n",
        "# Unwrap single result or return respone_missing\n",
        "def result_single(query: str) -> str:\n",
        "    tmp = results(query)\n",
        "    if len(tmp):\n",
        "        return tmp[0]\n",
        "    return None\n",
        "\n",
        "\n",
        "if __name__ == '__main__':\n",
        "    COL_GRN = '\\033[0;32m'\n",
        "    COL_RED = '\\033[0;31m'\n",
        "    COL_RESET = '\\033[m'\n",
        "    print(f'{COL_RED}[A]{COL_RESET}: {result_single(input(f\"{COL_GRN}[Q]{COL_RESET}: \"))}')\n"
      ],
      "metadata": {
        "colab": {
          "base_uri": "https://localhost:8080/"
        },
        "id": "sTs5iodG6X-p",
        "outputId": "12d9ac25-45d6-476a-c54f-0820ac468c6f"
      },
      "execution_count": 4,
      "outputs": [
        {
          "output_type": "stream",
          "name": "stdout",
          "text": [
            "\u001b[0;32m[Q]\u001b[m: What are the latest football scores in the Premier League?\n",
            "\u001b[0;31m[A]\u001b[m: Premier League scores, results and fixtures on BBC Sport, including live football scores, goals and goal scorers.\n"
          ]
        }
      ]
    },
    {
      "cell_type": "code",
      "source": [
        "from datasets import load_dataset\n",
        "from trl import SFTTrainer\n",
        "from transformers import TrainingArguments\n",
        "\n",
        "# load jsonl dataset\n",
        "dataset = load_dataset(\"json\", data_files=\"out.jsonl\", split=\"train\")\n",
        "\n",
        "training_args = TrainingArguments(save_strategy = 'epoch', output_dir = 'train_outputs')\n",
        "\n",
        "trainer = SFTTrainer(\n",
        "    \"openai-community/gpt2\",\n",
        "    args=training_args,\n",
        "    train_dataset=dataset,\n",
        "    packing=True,\n",
        ")\n",
        "\n",
        "trainer.train()"
      ],
      "metadata": {
        "colab": {
          "base_uri": "https://localhost:8080/"
        },
        "id": "Naj3HvtIc5Mw",
        "outputId": "17086d5c-7097-48e2-c216-3feb3735fc8e"
      },
      "execution_count": null,
      "outputs": [
        {
          "output_type": "stream",
          "name": "stderr",
          "text": [
            "/usr/local/lib/python3.10/dist-packages/trl/trainer/sft_trainer.py:161: UserWarning: You passed a model_id to the SFTTrainer. This will automatically create an `AutoModelForCausalLM` or a `PeftModel` (if you passed a `peft_config`) for you.\n",
            "  warnings.warn(\n",
            "/usr/local/lib/python3.10/dist-packages/trl/trainer/sft_trainer.py:225: UserWarning: You didn't pass a `max_seq_length` argument to the SFTTrainer, this will default to 1024\n",
            "  warnings.warn(\n"
          ]
        }
      ]
    },
    {
      "cell_type": "code",
      "source": [
        "import json\n",
        "\n",
        "output = '''{\"messages\": [{\"role\": \"system\", \"content\": \"You are helpful\"}, {\"role\": \"user\", \"content\": \"What`s the capital of France?\"}, {\"role\": \"assistant\", \"content\": \"...\"}]}\n",
        "{\"messages\": [{\"role\": \"system\", \"content\": \"You are helpful\"}, {\"role\": \"user\", \"content\": \"Who wrote 'Romeo and Juliet'?\"}, {\"role\": \"assistant\", \"content\": \"...\"}]}\n",
        "{\"messages\": [{\"role\": \"system\", \"content\": \"You are helpful\"}, {\"role\": \"user\", \"content\": \"How far is the Moon from Earth?\"}, {\"role\": \"assistant\", \"content\": \"...\"}]}'''\n",
        "\n",
        "output = output * 100\n",
        "\n",
        "\n",
        "with open('out.jsonl', 'w') as f:\n",
        "    f.write(output)\n",
        "\n"
      ],
      "metadata": {
        "id": "y1W0iSXXdjoA"
      },
      "execution_count": 8,
      "outputs": []
    },
    {
      "cell_type": "code",
      "source": [],
      "metadata": {
        "id": "DrjdJafTkgmD"
      },
      "execution_count": null,
      "outputs": []
    }
  ]
}